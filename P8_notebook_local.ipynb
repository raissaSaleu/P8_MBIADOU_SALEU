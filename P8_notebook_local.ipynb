{
 "cells": [
  {
   "cell_type": "markdown",
   "id": "b577962d",
   "metadata": {},
   "source": [
    "# **Déployer un modèle dans le cloud**\n",
    "\n",
    "___\n",
    "Cette étude vise à développer dans un environnement Big Data une première chaîne de traitement des données qui comprendra le preprocessing (l'extraction de features) et une étape de réduction de dimension sur une collection d'images.\n",
    "\n",
    "Le but est ici de mettre en place les premières briques de traitement qui serviront lorsqu’il deviendra nécessaire de passer à l’échelle en termes de volume de données.\n"
   ]
  },
  {
   "cell_type": "markdown",
   "id": "7f84457e",
   "metadata": {},
   "source": [
    "___\n",
    "## 0. MISE EN PLACE\n",
    "\n",
    "Dans cette première étape, le cadre de travail est mis en place, c'est-à-dire :\n",
    "- Les librairies et packages nécessaires sont chargés\n",
    "- Les fonctions utiles sont définies\n",
    "___"
   ]
  },
  {
   "cell_type": "markdown",
   "id": "030d96c7",
   "metadata": {},
   "source": [
    "### Imports"
   ]
  },
  {
   "cell_type": "code",
   "execution_count": 1,
   "id": "1fb9bb7b",
   "metadata": {},
   "outputs": [
    {
     "data": {
      "text/plain": [
       "'3.2.1'"
      ]
     },
     "execution_count": 1,
     "metadata": {},
     "output_type": "execute_result"
    }
   ],
   "source": [
    "# spark\n",
    "import findspark\n",
    "findspark.init()\n",
    "import pyspark\n",
    "pyspark.__version__"
   ]
  },
  {
   "cell_type": "code",
   "execution_count": 2,
   "id": "927ca665",
   "metadata": {},
   "outputs": [],
   "source": [
    "# context & session\n",
    "from pyspark import SparkContext\n",
    "from pyspark import SparkConf\n",
    "from pyspark.sql import SparkSession"
   ]
  },
  {
   "cell_type": "code",
   "execution_count": 3,
   "id": "d5d11bec",
   "metadata": {},
   "outputs": [
    {
     "data": {
      "text/plain": [
       "'7.0.0'"
      ]
     },
     "execution_count": 3,
     "metadata": {},
     "output_type": "execute_result"
    }
   ],
   "source": [
    "import pyarrow\n",
    "pyarrow.__version__"
   ]
  },
  {
   "cell_type": "code",
   "execution_count": 2,
   "id": "29c20ddc",
   "metadata": {},
   "outputs": [],
   "source": [
    "# usefull packages\n",
    "import pandas as pd\n",
    "import numpy as np\n",
    "import time\n",
    "import os\n",
    "# deal with image\n",
    "from PIL import Image"
   ]
  },
  {
   "cell_type": "code",
   "execution_count": 5,
   "id": "d2cffe73",
   "metadata": {},
   "outputs": [],
   "source": [
    "# data handling\n",
    "from pyspark.sql.functions import element_at, split\n",
    "from pyspark.sql.functions import pandas_udf, PandasUDFType\n",
    "# from pyspark.sql.functions import col\n",
    "from pyspark.sql.functions import udf\n",
    "from pyspark.sql.functions import input_file_name\n",
    "from pyspark.sql.types import *\n",
    "from typing import Iterator"
   ]
  },
  {
   "cell_type": "code",
   "execution_count": 6,
   "id": "c36ee3dc",
   "metadata": {},
   "outputs": [],
   "source": [
    "# ml tasks\n",
    "from pyspark.ml.image import ImageSchema\n",
    "from pyspark.ml.feature import VectorAssembler\n",
    "from pyspark.ml.feature import PCA"
   ]
  },
  {
   "cell_type": "code",
   "execution_count": 7,
   "id": "90685f78",
   "metadata": {},
   "outputs": [],
   "source": [
    "# transform\n",
    "from pyspark.ml.linalg import Vectors, VectorUDT"
   ]
  },
  {
   "cell_type": "code",
   "execution_count": 8,
   "id": "0be79cdf",
   "metadata": {},
   "outputs": [
    {
     "data": {
      "text/plain": [
       "'2.8.0'"
      ]
     },
     "execution_count": 8,
     "metadata": {},
     "output_type": "execute_result"
    }
   ],
   "source": [
    "# core featurizer\n",
    "import tensorflow as tf\n",
    "from tensorflow.keras.applications.vgg16 import VGG16, preprocess_input\n",
    "from tensorflow.keras.preprocessing.image import img_to_array, load_img\n",
    "tf.__version__"
   ]
  },
  {
   "cell_type": "markdown",
   "id": "0879625a",
   "metadata": {},
   "source": [
    "### Fonctions"
   ]
  },
  {
   "cell_type": "code",
   "execution_count": 9,
   "id": "cf6e0eca",
   "metadata": {},
   "outputs": [],
   "source": [
    "def parse_categorie(path):\n",
    "    '''\n",
    "        Renvoie la catégorie d'une image à partir de son chemin\n",
    "        \n",
    "        Parameters\n",
    "        ----------------\n",
    "        path : chemin d'une image\n",
    "\n",
    "        Returns\n",
    "        ---------------\n",
    "        _    : string\n",
    "               Le label (categorie) de l'image\n",
    "    '''\n",
    "\n",
    "    if len(path) > 0:\n",
    "        #catégorie de l'image\n",
    "        return path.split('/')[-2]\n",
    "    else:\n",
    "        return ''\n",
    "\n",
    "#------------------------------------------------------------------------    \n",
    "    \n",
    "def load_data(path_img):\n",
    "\n",
    "    '''\n",
    "        Prend en entrée le répertoire qui contient les sous répertoires contenant les images\n",
    "        Renvoie en sortie un spark dataframe contenant les images\n",
    "\n",
    "        Parameters\n",
    "        ----------------\n",
    "        path_img      : string\n",
    "                        Le chemin du dossier contenant les sous-répertoires avec les images\n",
    "                        \n",
    "        spark_session : SparkSession\n",
    "                        La session Spark active\n",
    "\n",
    "        Returns\n",
    "        ---------------\n",
    "        _    : Spark Dataframe\n",
    "               \n",
    "    '''\n",
    "   \n",
    "    #compteur\n",
    "    start = time.time()\n",
    "    \n",
    "    #chargement dataframe des images\n",
    "    df_img = spark.read.format(\"image\").load(path_img, inferschema=True)\n",
    "\n",
    "    # Ajout de la colonne \"path\" contenant le chemin de l'image\n",
    "    df_img = df_img.withColumn(\"path\", input_file_name())\n",
    "    \n",
    "    # Labelling des images en utilisant leur chemin\n",
    "    udf_categorie = udf(parse_categorie, StringType())\n",
    "    df_img = df_img.withColumn('category', udf_categorie('path'))\n",
    "    \n",
    "    print('Opération terminée.')\n",
    "    print('Temps de chargement des images : {} secondes'.format(time.strftime('%S',\n",
    "                                                    time.gmtime(time.time()-start))))\n",
    "    \n",
    "    return df_img    \n",
    "    \n",
    "#------------------------------------------------------------------------\n",
    "\n"
   ]
  },
  {
   "cell_type": "markdown",
   "id": "4f4fb9e6",
   "metadata": {},
   "source": [
    "___\n",
    "## 1. CHARGEMENT DES DONNEES"
   ]
  },
  {
   "cell_type": "markdown",
   "id": "52b6fe6a",
   "metadata": {},
   "source": [
    "### Initialisation instance Spark"
   ]
  },
  {
   "cell_type": "code",
   "execution_count": 13,
   "id": "5cfd2b6e",
   "metadata": {},
   "outputs": [],
   "source": [
    "# Initiate a Spark session\n",
    "spark = SparkSession.builder.master('local[*]').appName('P8').getOrCreate()"
   ]
  },
  {
   "cell_type": "code",
   "execution_count": 14,
   "id": "2e5835b0",
   "metadata": {},
   "outputs": [],
   "source": [
    "# check wether arrow should be enabled by this setting\n",
    "spark.conf.set(\"spark.sql.execution.arrow.pyspark.enabled\", \"true\")"
   ]
  },
  {
   "cell_type": "code",
   "execution_count": 15,
   "id": "8d6d311b",
   "metadata": {
    "scrolled": true
   },
   "outputs": [
    {
     "data": {
      "text/html": [
       "\n",
       "            <div>\n",
       "                <p><b>SparkSession - in-memory</b></p>\n",
       "                \n",
       "        <div>\n",
       "            <p><b>SparkContext</b></p>\n",
       "\n",
       "            <p><a href=\"http://192.168.1.13:4040\">Spark UI</a></p>\n",
       "\n",
       "            <dl>\n",
       "              <dt>Version</dt>\n",
       "                <dd><code>v3.2.1</code></dd>\n",
       "              <dt>Master</dt>\n",
       "                <dd><code>local[*]</code></dd>\n",
       "              <dt>AppName</dt>\n",
       "                <dd><code>P8</code></dd>\n",
       "            </dl>\n",
       "        </div>\n",
       "        \n",
       "            </div>\n",
       "        "
      ],
      "text/plain": [
       "<pyspark.sql.session.SparkSession at 0x2251dad2e50>"
      ]
     },
     "execution_count": 15,
     "metadata": {},
     "output_type": "execute_result"
    }
   ],
   "source": [
    "# open spark UI for app monitoring\n",
    "spark"
   ]
  },
  {
   "cell_type": "markdown",
   "id": "7d668e4b",
   "metadata": {},
   "source": [
    "### Chargement du dataframe contenant les images, leur chemin et leur catégorie"
   ]
  },
  {
   "cell_type": "code",
   "execution_count": 16,
   "id": "ed26e8ad",
   "metadata": {},
   "outputs": [],
   "source": [
    "# Dossier des images en local (echantillon)\n",
    "#+--------------+\n",
    "#|     categorie|\n",
    "#+--------------+\n",
    "#|Apple_Golden_1|\n",
    "#|   Apple_Red_1|\n",
    "#|        Banana|\n",
    "#|          Kiwi|\n",
    "#+--------------+\n",
    "\n",
    "path = './inputs/sample/*' "
   ]
  },
  {
   "cell_type": "code",
   "execution_count": 17,
   "id": "b085f419",
   "metadata": {},
   "outputs": [],
   "source": [
    "# Remplacement des espaces par des underscore dans les nom des dossiers\n",
    "#[os.rename(os.path.join(path, f), os.path.join(path, f).replace(' ', '_').lower()) for f in os.listdir(path)]"
   ]
  },
  {
   "cell_type": "code",
   "execution_count": 18,
   "id": "5edd0807",
   "metadata": {},
   "outputs": [
    {
     "name": "stdout",
     "output_type": "stream",
     "text": [
      "Opération terminée.\n",
      "Temps de chargement des images : 05 secondes\n"
     ]
    }
   ],
   "source": [
    "# Chargement du dataframe\n",
    "spark_df = load_data(path)"
   ]
  },
  {
   "cell_type": "code",
   "execution_count": 19,
   "id": "5b633c8f",
   "metadata": {},
   "outputs": [
    {
     "data": {
      "text/plain": [
       "1928"
      ]
     },
     "execution_count": 19,
     "metadata": {},
     "output_type": "execute_result"
    }
   ],
   "source": [
    "spark_df.count()"
   ]
  },
  {
   "cell_type": "code",
   "execution_count": 20,
   "id": "e29e95cb",
   "metadata": {},
   "outputs": [
    {
     "name": "stdout",
     "output_type": "stream",
     "text": [
      "root\n",
      " |-- image: struct (nullable = true)\n",
      " |    |-- origin: string (nullable = true)\n",
      " |    |-- height: integer (nullable = true)\n",
      " |    |-- width: integer (nullable = true)\n",
      " |    |-- nChannels: integer (nullable = true)\n",
      " |    |-- mode: integer (nullable = true)\n",
      " |    |-- data: binary (nullable = true)\n",
      " |-- path: string (nullable = false)\n",
      " |-- category: string (nullable = true)\n",
      "\n"
     ]
    }
   ],
   "source": [
    "# Affiche la structure (schéma) du dataframe\n",
    "spark_df.printSchema()"
   ]
  },
  {
   "cell_type": "code",
   "execution_count": 21,
   "id": "28433368",
   "metadata": {},
   "outputs": [
    {
     "name": "stdout",
     "output_type": "stream",
     "text": [
      "-RECORD 0---------------------------------------------------------------------------------------------\n",
      " origin | file:///C:/Users/RaissaTomeba/Formation/Projet_8/inputs/sample/apple_golden_1/r_202_100.jpg \n",
      "only showing top 1 row\n",
      "\n"
     ]
    }
   ],
   "source": [
    "spark_df.select('image.origin').show(1, False, True)"
   ]
  },
  {
   "cell_type": "code",
   "execution_count": 22,
   "id": "29a687d9",
   "metadata": {},
   "outputs": [
    {
     "name": "stdout",
     "output_type": "stream",
     "text": [
      "+--------------------+--------------------+--------------+\n",
      "|               image|                path|      category|\n",
      "+--------------------+--------------------+--------------+\n",
      "|{file:///C:/Users...|file:///C:/Users/...|apple_golden_1|\n",
      "|{file:///C:/Users...|file:///C:/Users/...|apple_golden_1|\n",
      "|{file:///C:/Users...|file:///C:/Users/...|apple_golden_1|\n",
      "|{file:///C:/Users...|file:///C:/Users/...|apple_golden_1|\n",
      "|{file:///C:/Users...|file:///C:/Users/...|apple_golden_1|\n",
      "|{file:///C:/Users...|file:///C:/Users/...|apple_golden_1|\n",
      "|{file:///C:/Users...|file:///C:/Users/...|apple_golden_1|\n",
      "|{file:///C:/Users...|file:///C:/Users/...|apple_golden_1|\n",
      "|{file:///C:/Users...|file:///C:/Users/...|apple_golden_1|\n",
      "|{file:///C:/Users...|file:///C:/Users/...|apple_golden_1|\n",
      "|{file:///C:/Users...|file:///C:/Users/...|apple_golden_1|\n",
      "|{file:///C:/Users...|file:///C:/Users/...|apple_golden_1|\n",
      "|{file:///C:/Users...|file:///C:/Users/...|apple_golden_1|\n",
      "|{file:///C:/Users...|file:///C:/Users/...|apple_golden_1|\n",
      "|{file:///C:/Users...|file:///C:/Users/...|apple_golden_1|\n",
      "|{file:///C:/Users...|file:///C:/Users/...|apple_golden_1|\n",
      "|{file:///C:/Users...|file:///C:/Users/...|apple_golden_1|\n",
      "|{file:///C:/Users...|file:///C:/Users/...|apple_golden_1|\n",
      "|{file:///C:/Users...|file:///C:/Users/...|apple_golden_1|\n",
      "|{file:///C:/Users...|file:///C:/Users/...|apple_golden_1|\n",
      "+--------------------+--------------------+--------------+\n",
      "only showing top 20 rows\n",
      "\n"
     ]
    }
   ],
   "source": [
    "spark_df.show()"
   ]
  },
  {
   "cell_type": "code",
   "execution_count": 23,
   "id": "15254836",
   "metadata": {},
   "outputs": [
    {
     "data": {
      "image/png": "[encoded data removed]",
      "text/plain": [
       "<PIL.Image.Image image mode=RGB size=100x100 at 0x2251DC2FFD0>"
      ]
     },
     "execution_count": 23,
     "metadata": {},
     "output_type": "execute_result"
    }
   ],
   "source": [
    "# Affichage d'une image\n",
    "ImageArray_first = ImageSchema.toNDArray(spark_df.first()['image'])[:, :, ::-1]\n",
    "Image.fromarray(ImageArray_first)"
   ]
  },
  {
   "cell_type": "markdown",
   "id": "b26774f8",
   "metadata": {},
   "source": [
    "___\n",
    "## 2. EXTRACTION DES FEATURES\n",
    "\n",
    "Nous utilisons ici une approche de featurization de nos images par transfer learning.\n",
    "\n",
    "Cela consiste à extraire les features les plus pertinentes pour la classification de nos iamges en utilisant un modèle de deep learning pré-entraîné sur de la classification d'image, auquel on enlève la dernière couche - celle qui classifie - afin d'obtenir en sortie un tenseur des features les plus significatives de nos images.\n",
    "\n",
    "Ce tenseur pourra ensuite être fourni à un autre modèle de classification, qui sera ainsi adapté à nos classes.\n",
    "\n",
    "Nous utilisons ici un modèle VGG16 pré-entraîné pour de la classification d'images, auquel nous retirons la dernière couche."
   ]
  },
  {
   "cell_type": "code",
   "execution_count": 24,
   "id": "1fa8e2a7",
   "metadata": {},
   "outputs": [],
   "source": [
    "# modèle\n",
    "conv_base = VGG16(\n",
    "    include_top=False,\n",
    "    weights=None,\n",
    "    pooling='max',\n",
    "    input_shape=(100, 100, 3))"
   ]
  },
  {
   "cell_type": "code",
   "execution_count": 25,
   "id": "80bcc5f3",
   "metadata": {},
   "outputs": [
    {
     "name": "stdout",
     "output_type": "stream",
     "text": [
      "Model: \"vgg16\"\n",
      "_________________________________________________________________\n",
      " Layer (type)                Output Shape              Param #   \n",
      "=================================================================\n",
      " input_1 (InputLayer)        [(None, 100, 100, 3)]     0         \n",
      "                                                                 \n",
      " block1_conv1 (Conv2D)       (None, 100, 100, 64)      1792      \n",
      "                                                                 \n",
      " block1_conv2 (Conv2D)       (None, 100, 100, 64)      36928     \n",
      "                                                                 \n",
      " block1_pool (MaxPooling2D)  (None, 50, 50, 64)        0         \n",
      "                                                                 \n",
      " block2_conv1 (Conv2D)       (None, 50, 50, 128)       73856     \n",
      "                                                                 \n",
      " block2_conv2 (Conv2D)       (None, 50, 50, 128)       147584    \n",
      "                                                                 \n",
      " block2_pool (MaxPooling2D)  (None, 25, 25, 128)       0         \n",
      "                                                                 \n",
      " block3_conv1 (Conv2D)       (None, 25, 25, 256)       295168    \n",
      "                                                                 \n",
      " block3_conv2 (Conv2D)       (None, 25, 25, 256)       590080    \n",
      "                                                                 \n",
      " block3_conv3 (Conv2D)       (None, 25, 25, 256)       590080    \n",
      "                                                                 \n",
      " block3_pool (MaxPooling2D)  (None, 12, 12, 256)       0         \n",
      "                                                                 \n",
      " block4_conv1 (Conv2D)       (None, 12, 12, 512)       1180160   \n",
      "                                                                 \n",
      " block4_conv2 (Conv2D)       (None, 12, 12, 512)       2359808   \n",
      "                                                                 \n",
      " block4_conv3 (Conv2D)       (None, 12, 12, 512)       2359808   \n",
      "                                                                 \n",
      " block4_pool (MaxPooling2D)  (None, 6, 6, 512)         0         \n",
      "                                                                 \n",
      " block5_conv1 (Conv2D)       (None, 6, 6, 512)         2359808   \n",
      "                                                                 \n",
      " block5_conv2 (Conv2D)       (None, 6, 6, 512)         2359808   \n",
      "                                                                 \n",
      " block5_conv3 (Conv2D)       (None, 6, 6, 512)         2359808   \n",
      "                                                                 \n",
      " block5_pool (MaxPooling2D)  (None, 3, 3, 512)         0         \n",
      "                                                                 \n",
      " global_max_pooling2d (Globa  (None, 512)              0         \n",
      " lMaxPooling2D)                                                  \n",
      "                                                                 \n",
      "=================================================================\n",
      "Total params: 14,714,688\n",
      "Trainable params: 14,714,688\n",
      "Non-trainable params: 0\n",
      "_________________________________________________________________\n"
     ]
    }
   ],
   "source": [
    "# vérifie que la couche supérieure est supprimée\n",
    "conv_base.summary()"
   ]
  },
  {
   "cell_type": "code",
   "execution_count": 26,
   "id": "eaf83537",
   "metadata": {},
   "outputs": [],
   "source": [
    "conv_base_weights = spark.sparkContext.broadcast(conv_base.get_weights())"
   ]
  },
  {
   "cell_type": "code",
   "execution_count": 27,
   "id": "f72d69a9",
   "metadata": {},
   "outputs": [],
   "source": [
    "def conv_base_init():\n",
    "    '''\n",
    "        Renvoie un modèle VGG 16 avec la couche supérieure supprimée et les poids diffusés\n",
    "    '''\n",
    "    conv_base = VGG16(\n",
    "        include_top=False,\n",
    "        weights=None,\n",
    "        pooling='max',\n",
    "        input_shape=(100, 100, 3))\n",
    "    conv_base.set_weights(conv_base_weights.value)\n",
    "    return conv_base\n",
    "\n",
    "#------------------------------------------------------------------------\n",
    "\n",
    "# function to get tensors from batch path\n",
    "def gettensorfrompath(image_path):\n",
    "    path = image_path.replace(\"file:///\", \"\")\n",
    "    img = load_img(path)\n",
    "    x = img_to_array(img)\n",
    "    x = preprocess_input(x)\n",
    "    return x\n",
    "\n",
    "#------------------------------------------------------------------------\n",
    "\n",
    "@pandas_udf('array<double>')\n",
    "def featurize(images_data_iter: Iterator[pd.DataFrame]) -> Iterator[pd.DataFrame]:\n",
    "    '''\n",
    "        Fonction utilisateur d'extraction des features\n",
    "    '''\n",
    "    conv_base = conv_base_init()\n",
    "    for image_data_series in images_data_iter:\n",
    "        image_path_series = image_data_series['origin']\n",
    "        x = image_path_series.map(gettensorfrompath)\n",
    "        x = np.stack(list(x.values))\n",
    "        features = conv_base.predict(x)\n",
    "        features_flat = [p.flatten() for p in features]\n",
    "        yield pd.Series(features_flat)\n",
    "\n",
    "#------------------------------------------------------------------------\n"
   ]
  },
  {
   "cell_type": "code",
   "execution_count": 28,
   "id": "4da8f015",
   "metadata": {},
   "outputs": [
    {
     "name": "stdout",
     "output_type": "stream",
     "text": [
      "Temps extraction des features: 0.24 secondes\n"
     ]
    }
   ],
   "source": [
    "# Applique l'extraction des features\n",
    "\n",
    "start = time.perf_counter()\n",
    "featurized_df = spark_df.withColumn('cnn_features', featurize('image')).cache()\n",
    "stop = time.perf_counter()\n",
    "print(f'Temps extraction des features: {stop - start:0.2f} secondes')"
   ]
  },
  {
   "cell_type": "code",
   "execution_count": 29,
   "id": "c85d88f6",
   "metadata": {},
   "outputs": [
    {
     "name": "stdout",
     "output_type": "stream",
     "text": [
      "+--------------------+--------------------+--------------+--------------------+\n",
      "|               image|                path|      category|        cnn_features|\n",
      "+--------------------+--------------------+--------------+--------------------+\n",
      "|{file:///C:/Users...|file:///C:/Users/...|apple_golden_1|[0.30993726849555...|\n",
      "|{file:///C:/Users...|file:///C:/Users/...|apple_golden_1|[0.33944892883300...|\n",
      "|{file:///C:/Users...|file:///C:/Users/...|apple_golden_1|[0.35247966647148...|\n",
      "|{file:///C:/Users...|file:///C:/Users/...|apple_golden_1|[0.37810212373733...|\n",
      "|{file:///C:/Users...|file:///C:/Users/...|apple_golden_1|[0.36986348032951...|\n",
      "|{file:///C:/Users...|file:///C:/Users/...|apple_golden_1|[0.33523747324943...|\n",
      "|{file:///C:/Users...|file:///C:/Users/...|apple_golden_1|[0.36603018641471...|\n",
      "|{file:///C:/Users...|file:///C:/Users/...|apple_golden_1|[0.38245406746864...|\n",
      "|{file:///C:/Users...|file:///C:/Users/...|apple_golden_1|[0.35272663831710...|\n",
      "|{file:///C:/Users...|file:///C:/Users/...|apple_golden_1|[0.34038537740707...|\n",
      "|{file:///C:/Users...|file:///C:/Users/...|apple_golden_1|[0.37499347329139...|\n",
      "|{file:///C:/Users...|file:///C:/Users/...|apple_golden_1|[0.37433892488479...|\n",
      "|{file:///C:/Users...|file:///C:/Users/...|apple_golden_1|[0.32843127846717...|\n",
      "|{file:///C:/Users...|file:///C:/Users/...|apple_golden_1|[0.30664998292922...|\n",
      "|{file:///C:/Users...|file:///C:/Users/...|apple_golden_1|[0.39405727386474...|\n",
      "|{file:///C:/Users...|file:///C:/Users/...|apple_golden_1|[0.35330682992935...|\n",
      "|{file:///C:/Users...|file:///C:/Users/...|apple_golden_1|[0.37056490778923...|\n",
      "|{file:///C:/Users...|file:///C:/Users/...|apple_golden_1|[0.38226392865180...|\n",
      "|{file:///C:/Users...|file:///C:/Users/...|apple_golden_1|[0.33931931853294...|\n",
      "|{file:///C:/Users...|file:///C:/Users/...|apple_golden_1|[0.30560338497161...|\n",
      "+--------------------+--------------------+--------------+--------------------+\n",
      "only showing top 20 rows\n",
      "\n"
     ]
    }
   ],
   "source": [
    "featurized_df.show()"
   ]
  },
  {
   "cell_type": "markdown",
   "id": "072f574c",
   "metadata": {},
   "source": [
    "___\n",
    "## 3. REDUCTION DE DIMENION (PCA)"
   ]
  },
  {
   "cell_type": "code",
   "execution_count": 30,
   "id": "b5ede166",
   "metadata": {},
   "outputs": [],
   "source": [
    "# De Array à Vectors pour appliquer la PCA\n",
    "array_to_vector_udf = udf(lambda l: Vectors.dense(l), VectorUDT())"
   ]
  },
  {
   "cell_type": "code",
   "execution_count": 31,
   "id": "68c01351",
   "metadata": {},
   "outputs": [],
   "source": [
    "vectorized_df = featurized_df.withColumn('cnn_vectors', array_to_vector_udf('cnn_features'))"
   ]
  },
  {
   "cell_type": "code",
   "execution_count": 32,
   "id": "dd20d8ef",
   "metadata": {},
   "outputs": [
    {
     "name": "stdout",
     "output_type": "stream",
     "text": [
      "+--------------------+--------------------+--------------+--------------------+--------------------+\n",
      "|               image|                path|      category|        cnn_features|         cnn_vectors|\n",
      "+--------------------+--------------------+--------------+--------------------+--------------------+\n",
      "|{file:///C:/Users...|file:///C:/Users/...|apple_golden_1|[0.30993726849555...|[0.30993726849555...|\n",
      "|{file:///C:/Users...|file:///C:/Users/...|apple_golden_1|[0.33944892883300...|[0.33944892883300...|\n",
      "|{file:///C:/Users...|file:///C:/Users/...|apple_golden_1|[0.35247966647148...|[0.35247966647148...|\n",
      "|{file:///C:/Users...|file:///C:/Users/...|apple_golden_1|[0.37810212373733...|[0.37810212373733...|\n",
      "|{file:///C:/Users...|file:///C:/Users/...|apple_golden_1|[0.36986348032951...|[0.36986348032951...|\n",
      "+--------------------+--------------------+--------------+--------------------+--------------------+\n",
      "only showing top 5 rows\n",
      "\n"
     ]
    }
   ],
   "source": [
    "vectorized_df.show(5, True)"
   ]
  },
  {
   "cell_type": "code",
   "execution_count": 33,
   "id": "6172925e",
   "metadata": {},
   "outputs": [
    {
     "name": "stdout",
     "output_type": "stream",
     "text": [
      "Temps de fit de la PCA: 460.82 secondes\n"
     ]
    }
   ],
   "source": [
    "# reduce with PCA - set k Max to determine the adequate nb of principal components\n",
    "start = time.perf_counter()\n",
    "pca = PCA(k=20, inputCol='cnn_vectors', outputCol='pca_vectors')\n",
    "model = pca.fit(vectorized_df)\n",
    "stop = time.perf_counter()\n",
    "print(f'Temps de fit de la PCA: {stop - start:0.2f} secondes')"
   ]
  },
  {
   "cell_type": "code",
   "execution_count": 34,
   "id": "46bdc4e8",
   "metadata": {},
   "outputs": [
    {
     "name": "stdout",
     "output_type": "stream",
     "text": [
      "Temps du transform de la PCA: 0.40 secondes\n"
     ]
    }
   ],
   "source": [
    "# Applique la réduction de dimension avec PCA\n",
    "\n",
    "start = time.perf_counter()\n",
    "reduced_df = model.transform(vectorized_df)\n",
    "stop = time.perf_counter()\n",
    "print(f'Temps du transform de la PCA: {stop - start:0.2f} secondes')"
   ]
  },
  {
   "cell_type": "code",
   "execution_count": 35,
   "id": "77640714",
   "metadata": {},
   "outputs": [
    {
     "name": "stdout",
     "output_type": "stream",
     "text": [
      "+--------------------+--------------------+--------------+--------------------+--------------------+--------------------+\n",
      "|               image|                path|      category|        cnn_features|         cnn_vectors|         pca_vectors|\n",
      "+--------------------+--------------------+--------------+--------------------+--------------------+--------------------+\n",
      "|{file:///C:/Users...|file:///C:/Users/...|apple_golden_1|[0.30993726849555...|[0.30993726849555...|[-8.1628317972495...|\n",
      "|{file:///C:/Users...|file:///C:/Users/...|apple_golden_1|[0.33944892883300...|[0.33944892883300...|[-8.1283261351403...|\n",
      "|{file:///C:/Users...|file:///C:/Users/...|apple_golden_1|[0.35247966647148...|[0.35247966647148...|[-7.8566129406495...|\n",
      "|{file:///C:/Users...|file:///C:/Users/...|apple_golden_1|[0.37810212373733...|[0.37810212373733...|[-8.2219664201651...|\n",
      "|{file:///C:/Users...|file:///C:/Users/...|apple_golden_1|[0.36986348032951...|[0.36986348032951...|[-8.2050925425347...|\n",
      "+--------------------+--------------------+--------------+--------------------+--------------------+--------------------+\n",
      "only showing top 5 rows\n",
      "\n"
     ]
    }
   ],
   "source": [
    "reduced_df.show(5, True)"
   ]
  },
  {
   "cell_type": "code",
   "execution_count": 36,
   "id": "b3f41e7f",
   "metadata": {},
   "outputs": [],
   "source": [
    "# Transformation inverse (de Vectors à Arrays)\n",
    "vector_to_array_udf = udf(lambda v: v.toArray().tolist(), ArrayType(FloatType()))"
   ]
  },
  {
   "cell_type": "code",
   "execution_count": 37,
   "id": "bc7c246f",
   "metadata": {},
   "outputs": [],
   "source": [
    "final_df = reduced_df.withColumn('features', vector_to_array_udf('pca_vectors'))"
   ]
  },
  {
   "cell_type": "code",
   "execution_count": 38,
   "id": "6e35dd1f",
   "metadata": {},
   "outputs": [
    {
     "name": "stdout",
     "output_type": "stream",
     "text": [
      "+--------------------+--------------------+--------------+--------------------+--------------------+--------------------+--------------------+\n",
      "|               image|                path|      category|        cnn_features|         cnn_vectors|         pca_vectors|            features|\n",
      "+--------------------+--------------------+--------------+--------------------+--------------------+--------------------+--------------------+\n",
      "|{file:///C:/Users...|file:///C:/Users/...|apple_golden_1|[0.30993726849555...|[0.30993726849555...|[-8.1628317972495...|[-8.162832, -0.80...|\n",
      "|{file:///C:/Users...|file:///C:/Users/...|apple_golden_1|[0.33944892883300...|[0.33944892883300...|[-8.1283261351403...|[-8.128326, -0.73...|\n",
      "|{file:///C:/Users...|file:///C:/Users/...|apple_golden_1|[0.35247966647148...|[0.35247966647148...|[-7.8566129406495...|[-7.856613, -0.81...|\n",
      "|{file:///C:/Users...|file:///C:/Users/...|apple_golden_1|[0.37810212373733...|[0.37810212373733...|[-8.2219664201651...|[-8.221967, -0.72...|\n",
      "|{file:///C:/Users...|file:///C:/Users/...|apple_golden_1|[0.36986348032951...|[0.36986348032951...|[-8.2050925425347...|[-8.205092, -0.68...|\n",
      "+--------------------+--------------------+--------------+--------------------+--------------------+--------------------+--------------------+\n",
      "only showing top 5 rows\n",
      "\n"
     ]
    }
   ],
   "source": [
    "final_df.show(5, True)"
   ]
  },
  {
   "cell_type": "markdown",
   "id": "48a7eb67",
   "metadata": {},
   "source": [
    "___\n",
    "## 4. SAUVEGARDE "
   ]
  },
  {
   "cell_type": "code",
   "execution_count": 39,
   "id": "a38a81fe",
   "metadata": {},
   "outputs": [
    {
     "name": "stdout",
     "output_type": "stream",
     "text": [
      "write local, elapsed time: 113.98s\n"
     ]
    }
   ],
   "source": [
    "# Enregistrement des données (format parquet)\n",
    "\n",
    "start = time.perf_counter()\n",
    "final_df.write.mode('overwrite').parquet('./outputs/featurized_sample')\n",
    "stop = time.perf_counter()\n",
    "print(f'write local, elapsed time: {stop - start:0.2f}s')"
   ]
  },
  {
   "cell_type": "code",
   "execution_count": 40,
   "id": "36c4c58b",
   "metadata": {},
   "outputs": [
    {
     "name": "stdout",
     "output_type": "stream",
     "text": [
      "read local, elapsed time: 0.53s\n"
     ]
    }
   ],
   "source": [
    "# lecture des données enregistrées (format parquet)\n",
    "\n",
    "start = time.perf_counter()\n",
    "pd_final_df = pd.read_parquet('./outputs/featurized_sample', engine='pyarrow')\n",
    "stop = time.perf_counter()\n",
    "print(f'read local, elapsed time: {stop - start:0.2f}s')"
   ]
  },
  {
   "cell_type": "code",
   "execution_count": 41,
   "id": "e916c240",
   "metadata": {},
   "outputs": [
    {
     "name": "stdout",
     "output_type": "stream",
     "text": [
      "<class 'pandas.core.frame.DataFrame'>\n",
      "RangeIndex: 1928 entries, 0 to 1927\n",
      "Columns: 7 entries, image to features\n",
      "dtypes: object(7)\n",
      "memory usage: 2.3 MB\n"
     ]
    }
   ],
   "source": [
    "# Taille du dataframe resultat\n",
    "pd_final_df.info(verbose=False, memory_usage=\"deep\")"
   ]
  },
  {
   "cell_type": "code",
   "execution_count": 42,
   "id": "c6f6e7f3",
   "metadata": {
    "scrolled": true
   },
   "outputs": [
    {
     "data": {
      "text/html": [
       "<div>\n",
       "<style scoped>\n",
       "    .dataframe tbody tr th:only-of-type {\n",
       "        vertical-align: middle;\n",
       "    }\n",
       "\n",
       "    .dataframe tbody tr th {\n",
       "        vertical-align: top;\n",
       "    }\n",
       "\n",
       "    .dataframe thead th {\n",
       "        text-align: right;\n",
       "    }\n",
       "</style>\n",
       "<table border=\"1\" class=\"dataframe\">\n",
       "  <thead>\n",
       "    <tr style=\"text-align: right;\">\n",
       "      <th></th>\n",
       "      <th>image</th>\n",
       "      <th>path</th>\n",
       "      <th>category</th>\n",
       "      <th>cnn_features</th>\n",
       "      <th>cnn_vectors</th>\n",
       "      <th>pca_vectors</th>\n",
       "      <th>features</th>\n",
       "    </tr>\n",
       "  </thead>\n",
       "  <tbody>\n",
       "    <tr>\n",
       "      <th>0</th>\n",
       "      <td>{'origin': 'file:///C:/Users/RaissaTomeba/Form...</td>\n",
       "      <td>file:///C:/Users/RaissaTomeba/Formation/Projet...</td>\n",
       "      <td>apple_golden_1</td>\n",
       "      <td>[0.3099372684955597, 0.17139598727226257, 0.50...</td>\n",
       "      <td>{'type': 1, 'size': None, 'indices': None, 'va...</td>\n",
       "      <td>{'type': 1, 'size': None, 'indices': None, 'va...</td>\n",
       "      <td>[-8.162832, -0.8022361, 0.89716005, -1.348667,...</td>\n",
       "    </tr>\n",
       "    <tr>\n",
       "      <th>1</th>\n",
       "      <td>{'origin': 'file:///C:/Users/RaissaTomeba/Form...</td>\n",
       "      <td>file:///C:/Users/RaissaTomeba/Formation/Projet...</td>\n",
       "      <td>apple_golden_1</td>\n",
       "      <td>[0.3394489288330078, 0.12721893191337585, 0.50...</td>\n",
       "      <td>{'type': 1, 'size': None, 'indices': None, 'va...</td>\n",
       "      <td>{'type': 1, 'size': None, 'indices': None, 'va...</td>\n",
       "      <td>[-8.128326, -0.73030764, 0.7424568, -1.3828069...</td>\n",
       "    </tr>\n",
       "    <tr>\n",
       "      <th>2</th>\n",
       "      <td>{'origin': 'file:///C:/Users/RaissaTomeba/Form...</td>\n",
       "      <td>file:///C:/Users/RaissaTomeba/Formation/Projet...</td>\n",
       "      <td>apple_golden_1</td>\n",
       "      <td>[0.3524796664714813, 0.23455829918384552, 0.42...</td>\n",
       "      <td>{'type': 1, 'size': None, 'indices': None, 'va...</td>\n",
       "      <td>{'type': 1, 'size': None, 'indices': None, 'va...</td>\n",
       "      <td>[-7.856613, -0.8123534, 0.7189054, -1.4763527,...</td>\n",
       "    </tr>\n",
       "    <tr>\n",
       "      <th>3</th>\n",
       "      <td>{'origin': 'file:///C:/Users/RaissaTomeba/Form...</td>\n",
       "      <td>file:///C:/Users/RaissaTomeba/Formation/Projet...</td>\n",
       "      <td>apple_golden_1</td>\n",
       "      <td>[0.3781021237373352, 0.16101911664009094, 0.51...</td>\n",
       "      <td>{'type': 1, 'size': None, 'indices': None, 'va...</td>\n",
       "      <td>{'type': 1, 'size': None, 'indices': None, 'va...</td>\n",
       "      <td>[-8.221967, -0.7232069, 0.79988813, -1.3744985...</td>\n",
       "    </tr>\n",
       "    <tr>\n",
       "      <th>4</th>\n",
       "      <td>{'origin': 'file:///C:/Users/RaissaTomeba/Form...</td>\n",
       "      <td>file:///C:/Users/RaissaTomeba/Formation/Projet...</td>\n",
       "      <td>apple_golden_1</td>\n",
       "      <td>[0.36986348032951355, 0.1845710426568985, 0.54...</td>\n",
       "      <td>{'type': 1, 'size': None, 'indices': None, 'va...</td>\n",
       "      <td>{'type': 1, 'size': None, 'indices': None, 'va...</td>\n",
       "      <td>[-8.205092, -0.6838171, 0.8058571, -1.3829671,...</td>\n",
       "    </tr>\n",
       "  </tbody>\n",
       "</table>\n",
       "</div>"
      ],
      "text/plain": [
       "                                               image  \\\n",
       "0  {'origin': 'file:///C:/Users/RaissaTomeba/Form...   \n",
       "1  {'origin': 'file:///C:/Users/RaissaTomeba/Form...   \n",
       "2  {'origin': 'file:///C:/Users/RaissaTomeba/Form...   \n",
       "3  {'origin': 'file:///C:/Users/RaissaTomeba/Form...   \n",
       "4  {'origin': 'file:///C:/Users/RaissaTomeba/Form...   \n",
       "\n",
       "                                                path        category  \\\n",
       "0  file:///C:/Users/RaissaTomeba/Formation/Projet...  apple_golden_1   \n",
       "1  file:///C:/Users/RaissaTomeba/Formation/Projet...  apple_golden_1   \n",
       "2  file:///C:/Users/RaissaTomeba/Formation/Projet...  apple_golden_1   \n",
       "3  file:///C:/Users/RaissaTomeba/Formation/Projet...  apple_golden_1   \n",
       "4  file:///C:/Users/RaissaTomeba/Formation/Projet...  apple_golden_1   \n",
       "\n",
       "                                        cnn_features  \\\n",
       "0  [0.3099372684955597, 0.17139598727226257, 0.50...   \n",
       "1  [0.3394489288330078, 0.12721893191337585, 0.50...   \n",
       "2  [0.3524796664714813, 0.23455829918384552, 0.42...   \n",
       "3  [0.3781021237373352, 0.16101911664009094, 0.51...   \n",
       "4  [0.36986348032951355, 0.1845710426568985, 0.54...   \n",
       "\n",
       "                                         cnn_vectors  \\\n",
       "0  {'type': 1, 'size': None, 'indices': None, 'va...   \n",
       "1  {'type': 1, 'size': None, 'indices': None, 'va...   \n",
       "2  {'type': 1, 'size': None, 'indices': None, 'va...   \n",
       "3  {'type': 1, 'size': None, 'indices': None, 'va...   \n",
       "4  {'type': 1, 'size': None, 'indices': None, 'va...   \n",
       "\n",
       "                                         pca_vectors  \\\n",
       "0  {'type': 1, 'size': None, 'indices': None, 'va...   \n",
       "1  {'type': 1, 'size': None, 'indices': None, 'va...   \n",
       "2  {'type': 1, 'size': None, 'indices': None, 'va...   \n",
       "3  {'type': 1, 'size': None, 'indices': None, 'va...   \n",
       "4  {'type': 1, 'size': None, 'indices': None, 'va...   \n",
       "\n",
       "                                            features  \n",
       "0  [-8.162832, -0.8022361, 0.89716005, -1.348667,...  \n",
       "1  [-8.128326, -0.73030764, 0.7424568, -1.3828069...  \n",
       "2  [-7.856613, -0.8123534, 0.7189054, -1.4763527,...  \n",
       "3  [-8.221967, -0.7232069, 0.79988813, -1.3744985...  \n",
       "4  [-8.205092, -0.6838171, 0.8058571, -1.3829671,...  "
      ]
     },
     "execution_count": 42,
     "metadata": {},
     "output_type": "execute_result"
    }
   ],
   "source": [
    "# Apperçu\n",
    "pd_final_df.head(5)"
   ]
  },
  {
   "cell_type": "code",
   "execution_count": 43,
   "id": "d1b11811",
   "metadata": {},
   "outputs": [],
   "source": [
    "spark.stop()"
   ]
  }
 ],
 "metadata": {
  "kernelspec": {
   "display_name": "Python 3 (ipykernel)",
   "language": "python",
   "name": "python3"
  },
  "language_info": {
   "codemirror_mode": {
    "name": "ipython",
    "version": 3
   },
   "file_extension": ".py",
   "mimetype": "text/x-python",
   "name": "python",
   "nbconvert_exporter": "python",
   "pygments_lexer": "ipython3",
   "version": "3.8.12"
  }
 },
 "nbformat": 4,
 "nbformat_minor": 5
}
